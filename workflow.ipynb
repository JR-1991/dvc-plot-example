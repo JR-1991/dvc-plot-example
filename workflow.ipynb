{
 "cells": [
  {
   "cell_type": "code",
   "execution_count": 2,
   "metadata": {},
   "outputs": [],
   "source": [
    "from run_experiment import RunExperiment"
   ]
  },
  {
   "cell_type": "code",
   "execution_count": 4,
   "metadata": {},
   "outputs": [
    {
     "name": "stdout",
     "output_type": "stream",
     "text": [
      "2022-09-22 10:14:58,680 (WARNING): Running DVC command: 'dvc run -n RunExperiment ...'\n",
      "2022-09-22 10:15:00,618 (WARNING): Running DVC command: 'dvc plots modify nodes/RunExperiment/plot.csv ...'\n"
     ]
    }
   ],
   "source": [
    "RunExperiment(num_exps=40, seed=100).write_graph(run=True)"
   ]
  }
 ],
 "metadata": {
  "kernelspec": {
   "display_name": "Python 3.10.4 ('dvc')",
   "language": "python",
   "name": "python3"
  },
  "language_info": {
   "codemirror_mode": {
    "name": "ipython",
    "version": 3
   },
   "file_extension": ".py",
   "mimetype": "text/x-python",
   "name": "python",
   "nbconvert_exporter": "python",
   "pygments_lexer": "ipython3",
   "version": "3.10.4"
  },
  "orig_nbformat": 4,
  "vscode": {
   "interpreter": {
    "hash": "2839dfa7fb741268c5d0ccf9e6435e41a711107259f61547885d4ab6a9ccd61b"
   }
  }
 },
 "nbformat": 4,
 "nbformat_minor": 2
}
